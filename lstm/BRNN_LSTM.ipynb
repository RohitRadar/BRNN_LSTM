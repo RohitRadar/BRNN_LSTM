{
 "cells": [
  {
   "cell_type": "code",
   "execution_count": 26,
   "id": "ea4fdf7d",
   "metadata": {},
   "outputs": [],
   "source": [
    "import numpy as np\n",
    "import tensorflow as tf\n",
    "from tensorflow.keras.preprocessing import sequence\n",
    "from keras.models import Sequential\n",
    "from keras.layers import Dense, Dropout, Embedding, LSTM, Bidirectional\n",
    "from keras.datasets import imdb "
   ]
  },
  {
   "cell_type": "code",
   "execution_count": 14,
   "id": "5c9e9a74",
   "metadata": {},
   "outputs": [],
   "source": [
    "n_unique_words = 10000 # cut texts after this number of words\n",
    "maxlen = 200\n",
    "batch_size = 128 "
   ]
  },
  {
   "cell_type": "code",
   "execution_count": 15,
   "id": "c554e7f8",
   "metadata": {},
   "outputs": [
    {
     "name": "stdout",
     "output_type": "stream",
     "text": [
      "Downloading data from https://storage.googleapis.com/tensorflow/tf-keras-datasets/imdb.npz\n",
      "17464789/17464789 [==============================] - 2s 0us/step\n"
     ]
    }
   ],
   "source": [
    "(x_train, y_train),(x_test, y_test) = imdb.load_data(num_words=n_unique_words)"
   ]
  },
  {
   "cell_type": "code",
   "execution_count": 27,
   "id": "6293946c",
   "metadata": {},
   "outputs": [],
   "source": [
    "x_train = sequence.pad_sequences(x_train, maxlen=maxlen)\n",
    "x_test = sequence.pad_sequences(x_test, maxlen=maxlen)\n",
    "y_train = np.array(y_train)\n",
    "y_test = np.array(y_test) "
   ]
  },
  {
   "cell_type": "code",
   "execution_count": 29,
   "id": "aeb399e2",
   "metadata": {},
   "outputs": [],
   "source": [
    "model = Sequential()\n",
    "model.add(Embedding(n_unique_words, 128, input_length=maxlen))\n",
    "model.add(Bidirectional(LSTM(64)))\n",
    "model.add(Dropout(0.5))\n",
    "model.add(Dense(1, activation='sigmoid'))\n",
    "model.compile(loss='binary_crossentropy', optimizer='adam', metrics=['accuracy']) "
   ]
  },
  {
   "cell_type": "code",
   "execution_count": 30,
   "id": "b587fc2c",
   "metadata": {},
   "outputs": [
    {
     "name": "stdout",
     "output_type": "stream",
     "text": [
      "Epoch 1/12\n",
      "196/196 [==============================] - 267s 1s/step - loss: 0.4424 - accuracy: 0.7836 - val_loss: 0.3134 - val_accuracy: 0.8676\n",
      "Epoch 2/12\n",
      "196/196 [==============================] - 308s 2s/step - loss: 0.2447 - accuracy: 0.9064 - val_loss: 0.3173 - val_accuracy: 0.8700\n",
      "Epoch 3/12\n",
      "196/196 [==============================] - 346s 2s/step - loss: 0.1866 - accuracy: 0.9316 - val_loss: 0.3342 - val_accuracy: 0.8678\n",
      "Epoch 4/12\n",
      "196/196 [==============================] - 351s 2s/step - loss: 0.1473 - accuracy: 0.9495 - val_loss: 0.3898 - val_accuracy: 0.8594\n",
      "Epoch 5/12\n",
      "196/196 [==============================] - 329s 2s/step - loss: 0.1077 - accuracy: 0.9632 - val_loss: 0.4428 - val_accuracy: 0.8530\n",
      "Epoch 6/12\n",
      "196/196 [==============================] - 327s 2s/step - loss: 0.0798 - accuracy: 0.9735 - val_loss: 0.6134 - val_accuracy: 0.8501\n",
      "Epoch 7/12\n",
      "196/196 [==============================] - 319s 2s/step - loss: 0.0639 - accuracy: 0.9794 - val_loss: 0.5554 - val_accuracy: 0.8516\n",
      "Epoch 8/12\n",
      "196/196 [==============================] - 311s 2s/step - loss: 0.0542 - accuracy: 0.9818 - val_loss: 0.6591 - val_accuracy: 0.8492\n",
      "Epoch 9/12\n",
      "196/196 [==============================] - 316s 2s/step - loss: 0.0545 - accuracy: 0.9826 - val_loss: 0.6078 - val_accuracy: 0.8531\n",
      "Epoch 10/12\n",
      "196/196 [==============================] - 322s 2s/step - loss: 0.0295 - accuracy: 0.9913 - val_loss: 0.6859 - val_accuracy: 0.8477\n",
      "Epoch 11/12\n",
      "196/196 [==============================] - 314s 2s/step - loss: 0.0476 - accuracy: 0.9857 - val_loss: 0.8353 - val_accuracy: 0.8382\n",
      "Epoch 12/12\n",
      "196/196 [==============================] - 319s 2s/step - loss: 0.0271 - accuracy: 0.9925 - val_loss: 0.6834 - val_accuracy: 0.8538\n",
      "[0.44242316484451294, 0.24466919898986816, 0.1866319477558136, 0.14734093844890594, 0.10767390578985214, 0.07977764308452606, 0.063877172768116, 0.05421157553792, 0.05454408749938011, 0.029459362849593163, 0.04757305979728699, 0.027079258114099503]\n",
      "[0.7835599780082703, 0.9063599705696106, 0.9315599799156189, 0.9494799971580505, 0.9632400274276733, 0.9734799861907959, 0.9794399738311768, 0.9818000197410583, 0.9825999736785889, 0.991320013999939, 0.9856799840927124, 0.9925199747085571]\n"
     ]
    }
   ],
   "source": [
    "history=model.fit(x_train, y_train,\n",
    "           batch_size=batch_size,\n",
    "           epochs=12,\n",
    "           validation_data=[x_test, y_test])\n",
    "print(history.history['loss'])\n",
    "print(history.history['accuracy']) "
   ]
  },
  {
   "cell_type": "code",
   "execution_count": 31,
   "id": "22fbdd11",
   "metadata": {},
   "outputs": [
    {
     "data": {
      "image/png": "[encoded data removed]",
      "text/plain": [
       "<Figure size 432x288 with 1 Axes>"
      ]
     },
     "metadata": {
      "needs_background": "light"
     },
     "output_type": "display_data"
    }
   ],
   "source": [
    "from matplotlib import pyplot\n",
    "pyplot.plot(history.history['loss'])\n",
    "pyplot.plot(history.history['accuracy'])\n",
    "pyplot.title('model loss vs accuracy')\n",
    "pyplot.xlabel('epoch')\n",
    "pyplot.legend(['loss', 'accuracy'], loc='upper right')\n",
    "pyplot.show() "
   ]
  },
  {
   "cell_type": "code",
   "execution_count": null,
   "id": "1ddd0aff",
   "metadata": {},
   "outputs": [],
   "source": []
  }
 ],
 "metadata": {
  "kernelspec": {
   "display_name": "Python 3 (ipykernel)",
   "language": "python",
   "name": "python3"
  },
  "language_info": {
   "codemirror_mode": {
    "name": "ipython",
    "version": 3
   },
   "file_extension": ".py",
   "mimetype": "text/x-python",
   "name": "python",
   "nbconvert_exporter": "python",
   "pygments_lexer": "ipython3",
   "version": "3.9.7"
  }
 },
 "nbformat": 4,
 "nbformat_minor": 5
}
