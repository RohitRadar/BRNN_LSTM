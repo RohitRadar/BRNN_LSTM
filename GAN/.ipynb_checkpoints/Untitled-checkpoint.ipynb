{
 "cells": [
  {
   "cell_type": "code",
   "execution_count": 12,
   "id": "d3d99c55",
   "metadata": {},
   "outputs": [],
   "source": [
    "import tensorflow as tf\n",
    "from tensorflow.keras.layers import (Dense, \n",
    "                                     BatchNormalization, \n",
    "                                     LeakyReLU, \n",
    "                                     Reshape, \n",
    "                                     Conv2DTranspose,\n",
    "                                     Conv2D,\n",
    "                                     Dropout,\n",
    "                                     Flatten)\n",
    "from keras.preprocessing.image import ImageDataGenerator\n",
    "import matplotlib.pyplot as plt\n",
    "import os\n",
    "import cv2\n",
    "import numpy as np"
   ]
  },
  {
   "cell_type": "code",
   "execution_count": 13,
   "id": "33f10477",
   "metadata": {},
   "outputs": [],
   "source": [
    "rad_path=\"C:/Users/rohit/OneDrive/Desktop/Now/cyprus/matlab/radpic/\"\n",
    "cod_path=\"C:/Users/rohit/OneDrive/Desktop/Now/cyprus/matlab/codpic/\"\n",
    "\n",
    "left = 34\n",
    "top = 10\n",
    "right = 712\n",
    "bottom = 545\n",
    "rad_data=[]\n",
    "cod_data=[]\n",
    "m=100\n",
    "i=0\n",
    "for img in os.listdir(rad_path):\n",
    "    i=i+1\n",
    "    if i>m:\n",
    "        break\n",
    "    image_path=rad_path+\"/\"+img\n",
    "    img_arr=cv2.imread(image_path)\n",
    "    img_arr = img_arr[left:right,top:bottom]\n",
    "    rad_data.append(img_arr)\n",
    "i=0\n",
    "for img in os.listdir(cod_path):\n",
    "    i=i+1\n",
    "    if i>m:\n",
    "        break\n",
    "    image_path=rad_path+\"/\"+img\n",
    "    img_arr=cv2.imread(image_path)\n",
    "    img_arr = img_arr[left:right,top:bottom]\n",
    "    rad_data.append(img_arr)"
   ]
  },
  {
   "cell_type": "code",
   "execution_count": 15,
   "id": "36b528a7",
   "metadata": {},
   "outputs": [
    {
     "name": "stdout",
     "output_type": "stream",
     "text": [
      "200\n"
     ]
    }
   ],
   "source": [
    "X=np.array(rad_data)\n",
    "x=X/255.0\n",
    "print(len(x))"
   ]
  },
  {
   "cell_type": "code",
   "execution_count": null,
   "id": "947e8cc4",
   "metadata": {},
   "outputs": [],
   "source": []
  }
 ],
 "metadata": {
  "kernelspec": {
   "display_name": "Python 3 (ipykernel)",
   "language": "python",
   "name": "python3"
  },
  "language_info": {
   "codemirror_mode": {
    "name": "ipython",
    "version": 3
   },
   "file_extension": ".py",
   "mimetype": "text/x-python",
   "name": "python",
   "nbconvert_exporter": "python",
   "pygments_lexer": "ipython3",
   "version": "3.9.13"
  }
 },
 "nbformat": 4,
 "nbformat_minor": 5
}
